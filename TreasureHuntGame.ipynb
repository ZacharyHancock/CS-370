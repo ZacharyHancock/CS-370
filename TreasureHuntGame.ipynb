{
 "cells": [
  {
   "cell_type": "markdown",
   "metadata": {},
   "source": [
    "# Treasure Hunt Game Notebook\n",
    "\n",
    "## Read and Review Your Starter Code\n",
    "The theme of this project is a popular treasure hunt game in which the player needs to find the treasure before the pirate does. While you will not be developing the entire game, you will write the part of the game that represents the intelligent agent, which is a pirate in this case. The pirate will try to find the optimal path to the treasure using deep Q-learning. \n",
    "\n",
    "You have been provided with two Python classes and this notebook to help you with this assignment. The first class, TreasureMaze.py, represents the environment, which includes a maze object defined as a matrix. The second class, GameExperience.py, stores the episodes – that is, all the states that come in between the initial state and the terminal state. This is later used by the agent for learning by experience, called \"exploration\". This notebook shows how to play a game. Your task is to complete the deep Q-learning implementation for which a skeleton implementation has been provided. The code blocks you will need to complete has #TODO as a header.\n",
    "\n",
    "First, read and review the next few code and instruction blocks to understand the code that you have been given."
   ]
  },
  {
   "cell_type": "code",
   "execution_count": 1,
   "metadata": {},
   "outputs": [
    {
     "name": "stderr",
     "output_type": "stream",
     "text": [
      "Using TensorFlow backend.\n"
     ]
    }
   ],
   "source": [
    "from __future__ import print_function\n",
    "import os, sys, time, datetime, json, random\n",
    "import numpy as np\n",
    "from keras.models import Sequential\n",
    "from keras.layers.core import Dense, Activation\n",
    "from keras.optimizers import SGD , Adam, RMSprop\n",
    "from keras.layers.advanced_activations import PReLU\n",
    "import matplotlib.pyplot as plt\n",
    "from TreasureMaze import TreasureMaze\n",
    "from GameExperience import GameExperience\n",
    "%matplotlib inline"
   ]
  },
  {
   "cell_type": "markdown",
   "metadata": {},
   "source": [
    "The following code block contains an 8x8 matrix that will be used as a maze object:"
   ]
  },
  {
   "cell_type": "code",
   "execution_count": 2,
   "metadata": {},
   "outputs": [],
   "source": [
    "maze = np.array([\n",
    "    [ 1.,  0.,  1.,  1.,  1.,  1.,  1.,  1.],\n",
    "    [ 1.,  0.,  1.,  1.,  1.,  0.,  1.,  1.],\n",
    "    [ 1.,  1.,  1.,  1.,  0.,  1.,  0.,  1.],\n",
    "    [ 1.,  1.,  1.,  0.,  1.,  1.,  1.,  1.],\n",
    "    [ 1.,  1.,  0.,  1.,  1.,  1.,  1.,  1.],\n",
    "    [ 1.,  1.,  1.,  0.,  1.,  0.,  0.,  0.],\n",
    "    [ 1.,  1.,  1.,  0.,  1.,  1.,  1.,  1.],\n",
    "    [ 1.,  1.,  1.,  1.,  0.,  1.,  1.,  1.]\n",
    "])"
   ]
  },
  {
   "cell_type": "markdown",
   "metadata": {},
   "source": [
    "This helper function allows a visual representation of the maze object:"
   ]
  },
  {
   "cell_type": "code",
   "execution_count": 3,
   "metadata": {},
   "outputs": [],
   "source": [
    "def show(qmaze):\n",
    "    plt.grid('on')\n",
    "    nrows, ncols = qmaze.maze.shape\n",
    "    ax = plt.gca()\n",
    "    ax.set_xticks(np.arange(0.5, nrows, 1))\n",
    "    ax.set_yticks(np.arange(0.5, ncols, 1))\n",
    "    ax.set_xticklabels([])\n",
    "    ax.set_yticklabels([])\n",
    "    canvas = np.copy(qmaze.maze)\n",
    "    for row,col in qmaze.visited:\n",
    "        canvas[row,col] = 0.6\n",
    "    pirate_row, pirate_col, _ = qmaze.state\n",
    "    canvas[pirate_row, pirate_col] = 0.3   # pirate cell\n",
    "    canvas[nrows-1, ncols-1] = 0.9 # treasure cell\n",
    "    img = plt.imshow(canvas, interpolation='none', cmap='gray')\n",
    "    return img"
   ]
  },
  {
   "cell_type": "markdown",
   "metadata": {},
   "source": [
    "The pirate agent can move in four directions: left, right, up, and down. \n",
    "\n",
    "While the agent primarily learns by experience through exploitation, often, the agent can choose to explore the environment to find previously undiscovered paths. This is called \"exploration\" and is defined by epsilon. This value is typically a lower value such as 0.1, which means for every ten attempts, the agent will attempt to learn by experience nine times and will randomly explore a new path one time. You are encouraged to try various values for the exploration factor and see how the algorithm performs."
   ]
  },
  {
   "cell_type": "code",
   "execution_count": 4,
   "metadata": {},
   "outputs": [],
   "source": [
    "LEFT = 0\n",
    "UP = 1\n",
    "RIGHT = 2\n",
    "DOWN = 3\n",
    "\n",
    "\n",
    "# Exploration factor\n",
    "epsilon = 0.1\n",
    "\n",
    "# Actions dictionary\n",
    "actions_dict = {\n",
    "    LEFT: 'left',\n",
    "    UP: 'up',\n",
    "    RIGHT: 'right',\n",
    "    DOWN: 'down',\n",
    "}\n",
    "\n",
    "num_actions = len(actions_dict)\n"
   ]
  },
  {
   "cell_type": "markdown",
   "metadata": {},
   "source": [
    "The sample code block and output below show creating a maze object and performing one action (DOWN), which returns the reward. The resulting updated environment is visualized."
   ]
  },
  {
   "cell_type": "code",
   "execution_count": 5,
   "metadata": {},
   "outputs": [
    {
     "name": "stdout",
     "output_type": "stream",
     "text": [
      "reward= -0.04\n"
     ]
    },
    {
     "data": {
      "text/plain": [
       "<matplotlib.image.AxesImage at 0x2076a791248>"
      ]
     },
     "execution_count": 5,
     "metadata": {},
     "output_type": "execute_result"
    },
    {
     "data": {
      "image/png": "[encoded data removed]",
      "text/plain": [
       "<Figure size 432x288 with 1 Axes>"
      ]
     },
     "metadata": {
      "needs_background": "light"
     },
     "output_type": "display_data"
    }
   ],
   "source": [
    "qmaze = TreasureMaze(maze)\n",
    "canvas, reward, game_over = qmaze.act(DOWN)\n",
    "print(\"reward=\", reward)\n",
    "show(qmaze)"
   ]
  },
  {
   "cell_type": "markdown",
   "metadata": {},
   "source": [
    "This function simulates a full game based on the provided trained model. The other parameters include the TreasureMaze object and the starting position of the pirate."
   ]
  },
  {
   "cell_type": "code",
   "execution_count": 6,
   "metadata": {},
   "outputs": [],
   "source": [
    "def play_game(model, qmaze, pirate_cell):\n",
    "    qmaze.reset(pirate_cell)\n",
    "    envstate = qmaze.observe()\n",
    "    while True:\n",
    "        prev_envstate = envstate\n",
    "        # get next action\n",
    "        q = model.predict(prev_envstate)\n",
    "        action = np.argmax(q[0])\n",
    "\n",
    "        # apply action, get rewards and new state\n",
    "        envstate, reward, game_status = qmaze.act(action)\n",
    "        if game_status == 'win':\n",
    "            return True\n",
    "        elif game_status == 'lose':\n",
    "            return False"
   ]
  },
  {
   "cell_type": "markdown",
   "metadata": {},
   "source": [
    "This function helps you to determine whether the pirate can win any game at all. If your maze is not well designed, the pirate may not win any game at all. In this case, your training would not yield any result. The provided maze in this notebook ensures that there is a path to win and you can run this method to check."
   ]
  },
  {
   "cell_type": "code",
   "execution_count": 7,
   "metadata": {},
   "outputs": [],
   "source": [
    "def completion_check(model, qmaze):\n",
    "    for cell in qmaze.free_cells:\n",
    "        if not qmaze.valid_actions(cell):\n",
    "            return False\n",
    "        if not play_game(model, qmaze, cell):\n",
    "            return False\n",
    "    return True"
   ]
  },
  {
   "cell_type": "markdown",
   "metadata": {},
   "source": [
    "The code you have been given in this block will build the neural network model. Review the code and note the number of layers, as well as the activation, optimizer, and loss functions that are used to train the model."
   ]
  },
  {
   "cell_type": "code",
   "execution_count": 8,
   "metadata": {},
   "outputs": [],
   "source": [
    "def build_model(maze):\n",
    "    model = Sequential()\n",
    "    model.add(Dense(maze.size, input_shape=(maze.size,)))\n",
    "    model.add(PReLU())\n",
    "    model.add(Dense(maze.size))\n",
    "    model.add(PReLU())\n",
    "    model.add(Dense(num_actions))\n",
    "    model.compile(optimizer='adam', loss='mse')\n",
    "    return model"
   ]
  },
  {
   "cell_type": "markdown",
   "metadata": {},
   "source": [
    "# #TODO: Complete the Q-Training Algorithm Code Block\n",
    "\n",
    "This is your deep Q-learning implementation. The goal of your deep Q-learning implementation is to find the best possible navigation sequence that results in reaching the treasure cell while maximizing the reward. In your implementation, you need to determine the optimal number of epochs to achieve a 100% win rate.\n",
    "\n",
    "You will need to complete the section starting with #pseudocode. The pseudocode has been included for you."
   ]
  },
  {
   "cell_type": "code",
   "execution_count": 12,
   "metadata": {},
   "outputs": [],
   "source": [
    "def qtrain(model, maze, **opt):\n",
    "\n",
    "    # exploration factor\n",
    "    global epsilon \n",
    "\n",
    "    # number of epochs\n",
    "    n_epoch = opt.get('n_epoch', 15000)\n",
    "\n",
    "    # maximum memory to store episodes\n",
    "    max_memory = opt.get('max_memory', 1000)\n",
    "\n",
    "    # maximum data size for training\n",
    "    data_size = opt.get('data_size', 50)\n",
    "\n",
    "    # start time\n",
    "    start_time = datetime.datetime.now()\n",
    "\n",
    "    # Construct environment/game from numpy array: maze (see above)\n",
    "    qmaze = TreasureMaze(maze)\n",
    "\n",
    "    # Initialize experience replay object\n",
    "    experience = GameExperience(model, max_memory=max_memory)\n",
    "    \n",
    "    win_history = []   # history of win/lose game\n",
    "    hsize = qmaze.maze.size//2   # history window size\n",
    "    win_rate = 0.0\n",
    "    \n",
    "    # pseudocode:\n",
    "    for epoch in range(n_epoch):# For each epoch:\n",
    "        loss = 0.0\n",
    "        n_episodes = 0\n",
    "        \n",
    "        agent_cell = random.choice(qmaze.free_cells)#    Agent_cell = randomly select a free cell\n",
    "        qmaze.reset(agent_cell)#    Reset the maze with agent set to above position\n",
    "        envstate = qmaze.observe() #set envstate to current state\n",
    "        \n",
    "        while True:  #    While state is not game over\n",
    "            prev_envstate = envstate #hold current envstate as previous for comparison\n",
    "            \n",
    "            if np.random.rand() < epsilon: # if random number is less than epsilon then the agent explored\n",
    "                action = random.choice(qmaze.valid_actions()) # chooses a random valid action from qmaze\n",
    "            else:\n",
    "                action = np.argmax(experience.predict(prev_envstate))\n",
    "                \n",
    "            envstate, reward, game_status = qmaze.act(action) # acts on selected action based on previous if/else for exploration/exploitation\n",
    "            \n",
    "            #store the experience\n",
    "            episode = [prev_envstate, action, reward, envstate, game_status]\n",
    "            experience.remember(episode)\n",
    "\n",
    "\n",
    "            #Train neural network model and evaluate loss\n",
    "            inputs, target = experience.get_data(data_size=data_size)\n",
    "            exp_hist = model.fit(inputs, target, epochs=1, verbose=0)\n",
    "            loss += exp_hist.history['loss'][0]\n",
    "    #    \n",
    "            #iterate number of episodes\n",
    "            n_episodes += 1\n",
    "            \n",
    "            #check if current epoch is over, and append the win/lose, and update the win history to the correct history size\n",
    "            # then calculate win rate and break out of loop\n",
    "            if game_status in('win', 'lose'):\n",
    "                if game_status == 'win':\n",
    "                    win_history.append(1)\n",
    "                else:\n",
    "                    win_history.append(0)\n",
    "                if len(win_history) > hsize: \n",
    "                    win_history = win_history[-hsize:]\n",
    "                win_rate = sum(win_history) / len(win_history)\n",
    "                break\n",
    "                \n",
    "        #Early breaking out of loop if the agent reached 100% win rate as specified in the markdown cell and completion_check passes\n",
    "        if win_rate > 0.9 and completion_check(model, qmaze):\n",
    "            print(\"Breaking loop, reached 100%% win rate at epoch: %d\" % (epoch,))\n",
    "            break\n",
    "\n",
    "    #Print the epoch, loss, episodes, win count, and win rate for each epoch\n",
    "        dt = datetime.datetime.now() - start_time\n",
    "        t = format_time(dt.total_seconds())\n",
    "        template = \"Epoch: {:03d}/{:d} | Loss: {:.4f} | Episodes: {:d} | Win count: {:d} | Win rate: {:.3f} | time: {}\"\n",
    "        print(template.format(epoch, n_epoch-1, loss, n_episodes, sum(win_history), win_rate, t))\n",
    "        # We simply check if training has exhausted all free cells and if in all\n",
    "        # cases the agent won.\n",
    "        if win_rate > 0.9 : epsilon = 0.05\n",
    "        if sum(win_history[-hsize:]) == hsize and completion_check(model, qmaze):\n",
    "            print(\"Reached 100%% win rate at epoch: %d\" % (epoch,))\n",
    "            break\n",
    "    \n",
    "    \n",
    "    # Determine the total time for training\n",
    "    dt = datetime.datetime.now() - start_time\n",
    "    seconds = dt.total_seconds()\n",
    "    t = format_time(seconds)\n",
    "\n",
    "    print(\"n_epoch: %d, max_mem: %d, data: %d, time: %s\" % (epoch, max_memory, data_size, t))\n",
    "    return seconds\n",
    "\n",
    "# This is a small utility for printing readable time strings:\n",
    "def format_time(seconds):\n",
    "    if seconds < 400:\n",
    "        s = float(seconds)\n",
    "        return \"%.1f seconds\" % (s,)\n",
    "    elif seconds < 4000:\n",
    "        m = seconds / 60.0\n",
    "        return \"%.2f minutes\" % (m,)\n",
    "    else:\n",
    "        h = seconds / 3600.0\n",
    "        return \"%.2f hours\" % (h,)"
   ]
  },
  {
   "cell_type": "markdown",
   "metadata": {},
   "source": [
    "## Test Your Model\n",
    "\n",
    "Now we will start testing the deep Q-learning implementation. To begin, select **Cell**, then **Run All** from the menu bar. This will run your notebook. As it runs, you should see output begin to appear beneath the next few cells. The code below creates an instance of TreasureMaze."
   ]
  },
  {
   "cell_type": "code",
   "execution_count": 13,
   "metadata": {},
   "outputs": [
    {
     "data": {
      "text/plain": [
       "<matplotlib.image.AxesImage at 0x207730e9ac8>"
      ]
     },
     "execution_count": 13,
     "metadata": {},
     "output_type": "execute_result"
    },
    {
     "data": {
      "image/png": "[encoded data removed]",
      "text/plain": [
       "<Figure size 432x288 with 1 Axes>"
      ]
     },
     "metadata": {
      "needs_background": "light"
     },
     "output_type": "display_data"
    }
   ],
   "source": [
    "qmaze = TreasureMaze(maze)\n",
    "show(qmaze)"
   ]
  },
  {
   "cell_type": "markdown",
   "metadata": {},
   "source": [
    "In the next code block, you will build your model and train it using deep Q-learning. Note: This step takes several minutes to fully run."
   ]
  },
  {
   "cell_type": "code",
   "execution_count": 14,
   "metadata": {},
   "outputs": [
    {
     "name": "stdout",
     "output_type": "stream",
     "text": [
      "Epoch: 000/14999 | Loss: 0.6640 | Episodes: 142 | Win count: 0 | Win rate: 0.000 | time: 16.4 seconds\n",
      "Epoch: 001/14999 | Loss: 0.1339 | Episodes: 134 | Win count: 0 | Win rate: 0.000 | time: 34.8 seconds\n",
      "Epoch: 002/14999 | Loss: 0.1445 | Episodes: 136 | Win count: 0 | Win rate: 0.000 | time: 52.9 seconds\n",
      "Epoch: 003/14999 | Loss: 0.0652 | Episodes: 72 | Win count: 1 | Win rate: 0.250 | time: 59.5 seconds\n",
      "Epoch: 004/14999 | Loss: 0.3015 | Episodes: 134 | Win count: 1 | Win rate: 0.200 | time: 69.8 seconds\n",
      "Epoch: 005/14999 | Loss: 0.1948 | Episodes: 136 | Win count: 1 | Win rate: 0.167 | time: 79.3 seconds\n",
      "Epoch: 006/14999 | Loss: 0.0032 | Episodes: 6 | Win count: 2 | Win rate: 0.286 | time: 79.9 seconds\n",
      "Epoch: 007/14999 | Loss: 0.2597 | Episodes: 134 | Win count: 2 | Win rate: 0.250 | time: 90.2 seconds\n",
      "Epoch: 008/14999 | Loss: 0.0116 | Episodes: 1 | Win count: 3 | Win rate: 0.333 | time: 90.4 seconds\n",
      "Epoch: 009/14999 | Loss: 0.0014 | Episodes: 2 | Win count: 4 | Win rate: 0.400 | time: 90.6 seconds\n",
      "Epoch: 010/14999 | Loss: 0.3964 | Episodes: 142 | Win count: 4 | Win rate: 0.364 | time: 100.8 seconds\n",
      "Epoch: 011/14999 | Loss: 0.0155 | Episodes: 4 | Win count: 5 | Win rate: 0.417 | time: 101.2 seconds\n",
      "Epoch: 012/14999 | Loss: 0.0603 | Episodes: 12 | Win count: 6 | Win rate: 0.462 | time: 102.2 seconds\n",
      "Epoch: 013/14999 | Loss: 0.0118 | Episodes: 1 | Win count: 7 | Win rate: 0.500 | time: 102.3 seconds\n",
      "Epoch: 014/14999 | Loss: 0.7762 | Episodes: 145 | Win count: 7 | Win rate: 0.467 | time: 112.7 seconds\n",
      "Epoch: 015/14999 | Loss: 0.1789 | Episodes: 41 | Win count: 8 | Win rate: 0.500 | time: 116.0 seconds\n",
      "Epoch: 016/14999 | Loss: 0.0269 | Episodes: 4 | Win count: 9 | Win rate: 0.529 | time: 116.4 seconds\n",
      "Epoch: 017/14999 | Loss: 0.0951 | Episodes: 16 | Win count: 10 | Win rate: 0.556 | time: 117.5 seconds\n",
      "Epoch: 018/14999 | Loss: 0.7898 | Episodes: 141 | Win count: 10 | Win rate: 0.526 | time: 127.6 seconds\n",
      "Epoch: 019/14999 | Loss: 0.1835 | Episodes: 51 | Win count: 11 | Win rate: 0.550 | time: 131.3 seconds\n",
      "Epoch: 020/14999 | Loss: 0.6554 | Episodes: 149 | Win count: 11 | Win rate: 0.524 | time: 142.0 seconds\n",
      "Epoch: 021/14999 | Loss: 0.4796 | Episodes: 138 | Win count: 11 | Win rate: 0.500 | time: 151.5 seconds\n",
      "Epoch: 022/14999 | Loss: 0.0602 | Episodes: 21 | Win count: 12 | Win rate: 0.522 | time: 153.2 seconds\n",
      "Epoch: 023/14999 | Loss: 0.2065 | Episodes: 73 | Win count: 13 | Win rate: 0.542 | time: 158.3 seconds\n",
      "Epoch: 024/14999 | Loss: 0.3840 | Episodes: 145 | Win count: 13 | Win rate: 0.520 | time: 168.7 seconds\n",
      "Epoch: 025/14999 | Loss: 0.0132 | Episodes: 4 | Win count: 14 | Win rate: 0.538 | time: 169.0 seconds\n",
      "Epoch: 026/14999 | Loss: 0.0261 | Episodes: 9 | Win count: 15 | Win rate: 0.556 | time: 169.7 seconds\n",
      "Epoch: 027/14999 | Loss: 0.1612 | Episodes: 71 | Win count: 16 | Win rate: 0.571 | time: 174.9 seconds\n",
      "Epoch: 028/14999 | Loss: 0.3679 | Episodes: 136 | Win count: 16 | Win rate: 0.552 | time: 185.4 seconds\n",
      "Epoch: 029/14999 | Loss: 0.2712 | Episodes: 131 | Win count: 17 | Win rate: 0.567 | time: 195.0 seconds\n",
      "Epoch: 030/14999 | Loss: 0.2118 | Episodes: 141 | Win count: 17 | Win rate: 0.548 | time: 205.1 seconds\n",
      "Epoch: 031/14999 | Loss: 0.0823 | Episodes: 42 | Win count: 18 | Win rate: 0.562 | time: 208.1 seconds\n",
      "Epoch: 032/14999 | Loss: 0.1793 | Episodes: 101 | Win count: 19 | Win rate: 0.594 | time: 215.1 seconds\n",
      "Epoch: 033/14999 | Loss: 0.0410 | Episodes: 27 | Win count: 20 | Win rate: 0.625 | time: 216.9 seconds\n",
      "Epoch: 034/14999 | Loss: 0.0614 | Episodes: 39 | Win count: 21 | Win rate: 0.656 | time: 219.8 seconds\n",
      "Epoch: 035/14999 | Loss: 0.0143 | Episodes: 9 | Win count: 21 | Win rate: 0.656 | time: 220.3 seconds\n",
      "Epoch: 036/14999 | Loss: 0.0030 | Episodes: 2 | Win count: 22 | Win rate: 0.688 | time: 220.4 seconds\n",
      "Epoch: 037/14999 | Loss: 0.0365 | Episodes: 20 | Win count: 23 | Win rate: 0.719 | time: 221.8 seconds\n",
      "Epoch: 038/14999 | Loss: 0.0043 | Episodes: 2 | Win count: 23 | Win rate: 0.719 | time: 221.9 seconds\n",
      "Epoch: 039/14999 | Loss: 0.0139 | Episodes: 8 | Win count: 24 | Win rate: 0.750 | time: 222.5 seconds\n",
      "Epoch: 040/14999 | Loss: 0.0474 | Episodes: 25 | Win count: 24 | Win rate: 0.750 | time: 224.2 seconds\n",
      "Epoch: 041/14999 | Loss: 0.0513 | Episodes: 28 | Win count: 24 | Win rate: 0.750 | time: 226.3 seconds\n",
      "Epoch: 042/14999 | Loss: 0.0629 | Episodes: 32 | Win count: 25 | Win rate: 0.781 | time: 228.5 seconds\n",
      "Epoch: 043/14999 | Loss: 0.0179 | Episodes: 9 | Win count: 25 | Win rate: 0.781 | time: 229.1 seconds\n",
      "Epoch: 044/14999 | Loss: 0.0051 | Episodes: 3 | Win count: 25 | Win rate: 0.781 | time: 229.4 seconds\n",
      "Epoch: 045/14999 | Loss: 0.0920 | Episodes: 47 | Win count: 25 | Win rate: 0.781 | time: 232.7 seconds\n",
      "Epoch: 046/14999 | Loss: 0.0126 | Episodes: 8 | Win count: 26 | Win rate: 0.812 | time: 233.3 seconds\n",
      "Epoch: 047/14999 | Loss: 0.0384 | Episodes: 25 | Win count: 26 | Win rate: 0.812 | time: 235.1 seconds\n",
      "Epoch: 048/14999 | Loss: 0.0025 | Episodes: 2 | Win count: 26 | Win rate: 0.812 | time: 235.2 seconds\n",
      "Epoch: 049/14999 | Loss: 0.0155 | Episodes: 10 | Win count: 26 | Win rate: 0.812 | time: 235.9 seconds\n",
      "Epoch: 050/14999 | Loss: 0.0338 | Episodes: 23 | Win count: 27 | Win rate: 0.844 | time: 237.6 seconds\n",
      "Epoch: 051/14999 | Loss: 0.0518 | Episodes: 32 | Win count: 27 | Win rate: 0.844 | time: 239.9 seconds\n",
      "Epoch: 052/14999 | Loss: 0.0136 | Episodes: 9 | Win count: 28 | Win rate: 0.875 | time: 240.6 seconds\n",
      "Epoch: 053/14999 | Loss: 0.0123 | Episodes: 8 | Win count: 29 | Win rate: 0.906 | time: 241.4 seconds\n",
      "Epoch: 054/14999 | Loss: 0.0151 | Episodes: 11 | Win count: 29 | Win rate: 0.906 | time: 242.4 seconds\n",
      "Epoch: 055/14999 | Loss: 0.0309 | Episodes: 22 | Win count: 29 | Win rate: 0.906 | time: 244.1 seconds\n",
      "Epoch: 056/14999 | Loss: 0.0086 | Episodes: 7 | Win count: 30 | Win rate: 0.938 | time: 244.7 seconds\n",
      "Epoch: 057/14999 | Loss: 0.1016 | Episodes: 71 | Win count: 30 | Win rate: 0.938 | time: 249.9 seconds\n",
      "Epoch: 058/14999 | Loss: 0.1216 | Episodes: 79 | Win count: 30 | Win rate: 0.938 | time: 255.8 seconds\n",
      "Epoch: 059/14999 | Loss: 0.0494 | Episodes: 34 | Win count: 30 | Win rate: 0.938 | time: 258.3 seconds\n",
      "Epoch: 060/14999 | Loss: 0.0031 | Episodes: 3 | Win count: 31 | Win rate: 0.969 | time: 258.7 seconds\n",
      "Epoch: 061/14999 | Loss: 0.0331 | Episodes: 22 | Win count: 31 | Win rate: 0.969 | time: 260.3 seconds\n",
      "Epoch: 062/14999 | Loss: 0.0221 | Episodes: 15 | Win count: 32 | Win rate: 1.000 | time: 261.5 seconds\n",
      "Epoch: 063/14999 | Loss: 0.0058 | Episodes: 5 | Win count: 32 | Win rate: 1.000 | time: 262.1 seconds\n",
      "Epoch: 064/14999 | Loss: 0.0017 | Episodes: 1 | Win count: 32 | Win rate: 1.000 | time: 262.4 seconds\n",
      "Epoch: 065/14999 | Loss: 0.0015 | Episodes: 1 | Win count: 32 | Win rate: 1.000 | time: 262.7 seconds\n",
      "Epoch: 066/14999 | Loss: 0.0702 | Episodes: 55 | Win count: 32 | Win rate: 1.000 | time: 266.9 seconds\n",
      "Epoch: 067/14999 | Loss: 0.0061 | Episodes: 5 | Win count: 32 | Win rate: 1.000 | time: 267.5 seconds\n",
      "Epoch: 068/14999 | Loss: 0.0009 | Episodes: 1 | Win count: 32 | Win rate: 1.000 | time: 267.7 seconds\n",
      "Epoch: 069/14999 | Loss: 0.0159 | Episodes: 13 | Win count: 32 | Win rate: 1.000 | time: 268.9 seconds\n",
      "Epoch: 070/14999 | Loss: 0.0874 | Episodes: 83 | Win count: 32 | Win rate: 1.000 | time: 275.0 seconds\n",
      "Epoch: 071/14999 | Loss: 0.0158 | Episodes: 17 | Win count: 32 | Win rate: 1.000 | time: 276.5 seconds\n",
      "Epoch: 072/14999 | Loss: 0.0476 | Episodes: 37 | Win count: 32 | Win rate: 1.000 | time: 279.4 seconds\n",
      "Epoch: 073/14999 | Loss: 0.0161 | Episodes: 18 | Win count: 32 | Win rate: 1.000 | time: 280.8 seconds\n",
      "Epoch: 074/14999 | Loss: 0.0831 | Episodes: 78 | Win count: 32 | Win rate: 1.000 | time: 286.6 seconds\n",
      "Epoch: 075/14999 | Loss: 0.0419 | Episodes: 41 | Win count: 32 | Win rate: 1.000 | time: 289.9 seconds\n",
      "Epoch: 076/14999 | Loss: 0.0067 | Episodes: 8 | Win count: 32 | Win rate: 1.000 | time: 291.3 seconds\n",
      "Epoch: 077/14999 | Loss: 0.0164 | Episodes: 18 | Win count: 32 | Win rate: 1.000 | time: 293.3 seconds\n",
      "Epoch: 078/14999 | Loss: 0.0272 | Episodes: 29 | Win count: 32 | Win rate: 1.000 | time: 295.6 seconds\n",
      "Epoch: 079/14999 | Loss: 0.0248 | Episodes: 28 | Win count: 32 | Win rate: 1.000 | time: 298.2 seconds\n"
     ]
    },
    {
     "name": "stdout",
     "output_type": "stream",
     "text": [
      "Epoch: 080/14999 | Loss: 0.0074 | Episodes: 7 | Win count: 32 | Win rate: 1.000 | time: 299.3 seconds\n",
      "Epoch: 081/14999 | Loss: 0.0159 | Episodes: 16 | Win count: 32 | Win rate: 1.000 | time: 301.2 seconds\n",
      "Epoch: 082/14999 | Loss: 0.0214 | Episodes: 21 | Win count: 32 | Win rate: 1.000 | time: 303.1 seconds\n",
      "Epoch: 083/14999 | Loss: 0.0172 | Episodes: 19 | Win count: 32 | Win rate: 1.000 | time: 304.8 seconds\n",
      "Epoch: 084/14999 | Loss: 0.0160 | Episodes: 24 | Win count: 32 | Win rate: 1.000 | time: 306.8 seconds\n",
      "Epoch: 085/14999 | Loss: 0.0155 | Episodes: 28 | Win count: 32 | Win rate: 1.000 | time: 309.4 seconds\n",
      "Epoch: 086/14999 | Loss: 0.0061 | Episodes: 9 | Win count: 32 | Win rate: 1.000 | time: 310.6 seconds\n",
      "Epoch: 087/14999 | Loss: 0.0109 | Episodes: 15 | Win count: 32 | Win rate: 1.000 | time: 312.7 seconds\n",
      "Epoch: 088/14999 | Loss: 0.0190 | Episodes: 30 | Win count: 32 | Win rate: 1.000 | time: 315.7 seconds\n",
      "Epoch: 089/14999 | Loss: 0.0174 | Episodes: 29 | Win count: 32 | Win rate: 1.000 | time: 318.3 seconds\n",
      "Epoch: 090/14999 | Loss: 0.0141 | Episodes: 23 | Win count: 32 | Win rate: 1.000 | time: 320.5 seconds\n",
      "Epoch: 091/14999 | Loss: 0.0166 | Episodes: 26 | Win count: 32 | Win rate: 1.000 | time: 323.2 seconds\n",
      "Epoch: 092/14999 | Loss: 0.0099 | Episodes: 14 | Win count: 32 | Win rate: 1.000 | time: 324.8 seconds\n",
      "Epoch: 093/14999 | Loss: 0.0129 | Episodes: 22 | Win count: 32 | Win rate: 1.000 | time: 326.8 seconds\n",
      "Epoch: 094/14999 | Loss: 0.0003 | Episodes: 1 | Win count: 32 | Win rate: 1.000 | time: 327.0 seconds\n",
      "Epoch: 095/14999 | Loss: 0.0037 | Episodes: 6 | Win count: 32 | Win rate: 1.000 | time: 327.7 seconds\n",
      "Epoch: 096/14999 | Loss: 0.0103 | Episodes: 21 | Win count: 32 | Win rate: 1.000 | time: 329.3 seconds\n",
      "Epoch: 097/14999 | Loss: 0.0107 | Episodes: 21 | Win count: 32 | Win rate: 1.000 | time: 331.0 seconds\n",
      "Epoch: 098/14999 | Loss: 0.0089 | Episodes: 20 | Win count: 32 | Win rate: 1.000 | time: 332.8 seconds\n",
      "Epoch: 099/14999 | Loss: 0.0085 | Episodes: 20 | Win count: 32 | Win rate: 1.000 | time: 334.5 seconds\n",
      "Epoch: 100/14999 | Loss: 0.0015 | Episodes: 5 | Win count: 32 | Win rate: 1.000 | time: 335.1 seconds\n",
      "Epoch: 101/14999 | Loss: 0.0071 | Episodes: 18 | Win count: 32 | Win rate: 1.000 | time: 336.9 seconds\n",
      "Epoch: 102/14999 | Loss: 0.0062 | Episodes: 19 | Win count: 32 | Win rate: 1.000 | time: 338.7 seconds\n",
      "Epoch: 103/14999 | Loss: 0.0009 | Episodes: 2 | Win count: 32 | Win rate: 1.000 | time: 339.2 seconds\n",
      "Epoch: 104/14999 | Loss: 0.0091 | Episodes: 25 | Win count: 32 | Win rate: 1.000 | time: 341.3 seconds\n",
      "Epoch: 105/14999 | Loss: 0.0057 | Episodes: 14 | Win count: 32 | Win rate: 1.000 | time: 342.7 seconds\n",
      "Epoch: 106/14999 | Loss: 0.0002 | Episodes: 1 | Win count: 32 | Win rate: 1.000 | time: 342.9 seconds\n",
      "Epoch: 107/14999 | Loss: 0.0048 | Episodes: 16 | Win count: 32 | Win rate: 1.000 | time: 344.4 seconds\n",
      "Epoch: 108/14999 | Loss: 0.0117 | Episodes: 29 | Win count: 32 | Win rate: 1.000 | time: 346.3 seconds\n",
      "Epoch: 109/14999 | Loss: 0.0066 | Episodes: 12 | Win count: 32 | Win rate: 1.000 | time: 347.4 seconds\n",
      "Epoch: 110/14999 | Loss: 0.0033 | Episodes: 7 | Win count: 32 | Win rate: 1.000 | time: 348.0 seconds\n",
      "Epoch: 111/14999 | Loss: 0.0005 | Episodes: 1 | Win count: 32 | Win rate: 1.000 | time: 348.2 seconds\n",
      "Epoch: 112/14999 | Loss: 0.0069 | Episodes: 15 | Win count: 32 | Win rate: 1.000 | time: 349.5 seconds\n",
      "Epoch: 113/14999 | Loss: 0.0059 | Episodes: 13 | Win count: 32 | Win rate: 1.000 | time: 350.6 seconds\n",
      "Epoch: 114/14999 | Loss: 0.0091 | Episodes: 21 | Win count: 32 | Win rate: 1.000 | time: 352.5 seconds\n",
      "Epoch: 115/14999 | Loss: 0.0094 | Episodes: 22 | Win count: 32 | Win rate: 1.000 | time: 354.2 seconds\n",
      "Epoch: 116/14999 | Loss: 0.0038 | Episodes: 14 | Win count: 32 | Win rate: 1.000 | time: 355.4 seconds\n",
      "Epoch: 117/14999 | Loss: 0.0259 | Episodes: 59 | Win count: 32 | Win rate: 1.000 | time: 359.6 seconds\n",
      "Epoch: 118/14999 | Loss: 0.0024 | Episodes: 5 | Win count: 32 | Win rate: 1.000 | time: 360.2 seconds\n",
      "Epoch: 119/14999 | Loss: 0.0015 | Episodes: 4 | Win count: 32 | Win rate: 1.000 | time: 360.7 seconds\n",
      "Epoch: 120/14999 | Loss: 0.0063 | Episodes: 13 | Win count: 32 | Win rate: 1.000 | time: 361.9 seconds\n",
      "Epoch: 121/14999 | Loss: 0.0202 | Episodes: 36 | Win count: 32 | Win rate: 1.000 | time: 365.1 seconds\n",
      "Epoch: 122/14999 | Loss: 0.0108 | Episodes: 20 | Win count: 32 | Win rate: 1.000 | time: 367.3 seconds\n",
      "Epoch: 123/14999 | Loss: 0.0046 | Episodes: 8 | Win count: 32 | Win rate: 1.000 | time: 368.2 seconds\n",
      "Epoch: 124/14999 | Loss: 0.0190 | Episodes: 29 | Win count: 32 | Win rate: 1.000 | time: 370.4 seconds\n",
      "Epoch: 125/14999 | Loss: 0.0041 | Episodes: 7 | Win count: 32 | Win rate: 1.000 | time: 371.2 seconds\n",
      "Epoch: 126/14999 | Loss: 0.0061 | Episodes: 8 | Win count: 32 | Win rate: 1.000 | time: 372.2 seconds\n",
      "Epoch: 127/14999 | Loss: 0.0106 | Episodes: 13 | Win count: 32 | Win rate: 1.000 | time: 374.0 seconds\n",
      "Epoch: 128/14999 | Loss: 0.0141 | Episodes: 20 | Win count: 32 | Win rate: 1.000 | time: 375.8 seconds\n",
      "Epoch: 129/14999 | Loss: 0.0213 | Episodes: 33 | Win count: 32 | Win rate: 1.000 | time: 378.4 seconds\n",
      "Epoch: 130/14999 | Loss: 0.0120 | Episodes: 13 | Win count: 32 | Win rate: 1.000 | time: 379.7 seconds\n",
      "Epoch: 131/14999 | Loss: 0.0135 | Episodes: 17 | Win count: 32 | Win rate: 1.000 | time: 381.3 seconds\n",
      "Epoch: 132/14999 | Loss: 0.0155 | Episodes: 23 | Win count: 32 | Win rate: 1.000 | time: 383.2 seconds\n",
      "Epoch: 133/14999 | Loss: 0.0333 | Episodes: 46 | Win count: 32 | Win rate: 1.000 | time: 386.8 seconds\n",
      "Epoch: 134/14999 | Loss: 0.0178 | Episodes: 22 | Win count: 32 | Win rate: 1.000 | time: 389.1 seconds\n",
      "Epoch: 135/14999 | Loss: 0.0217 | Episodes: 32 | Win count: 32 | Win rate: 1.000 | time: 391.9 seconds\n",
      "Epoch: 136/14999 | Loss: 0.0468 | Episodes: 55 | Win count: 32 | Win rate: 1.000 | time: 396.1 seconds\n",
      "Epoch: 137/14999 | Loss: 0.0160 | Episodes: 21 | Win count: 32 | Win rate: 1.000 | time: 397.8 seconds\n",
      "Epoch: 138/14999 | Loss: 0.0106 | Episodes: 13 | Win count: 32 | Win rate: 1.000 | time: 399.0 seconds\n",
      "Epoch: 139/14999 | Loss: 0.0072 | Episodes: 8 | Win count: 32 | Win rate: 1.000 | time: 399.9 seconds\n",
      "Epoch: 140/14999 | Loss: 0.0228 | Episodes: 28 | Win count: 32 | Win rate: 1.000 | time: 6.70 minutes\n",
      "Epoch: 141/14999 | Loss: 0.0017 | Episodes: 2 | Win count: 32 | Win rate: 1.000 | time: 6.71 minutes\n",
      "Epoch: 142/14999 | Loss: 0.0171 | Episodes: 16 | Win count: 32 | Win rate: 1.000 | time: 6.73 minutes\n",
      "Epoch: 143/14999 | Loss: 0.0347 | Episodes: 43 | Win count: 32 | Win rate: 1.000 | time: 6.78 minutes\n",
      "Epoch: 144/14999 | Loss: 0.0365 | Episodes: 31 | Win count: 32 | Win rate: 1.000 | time: 6.82 minutes\n",
      "Epoch: 145/14999 | Loss: 0.0040 | Episodes: 2 | Win count: 32 | Win rate: 1.000 | time: 6.82 minutes\n",
      "Epoch: 146/14999 | Loss: 0.0267 | Episodes: 21 | Win count: 32 | Win rate: 1.000 | time: 6.85 minutes\n",
      "Epoch: 147/14999 | Loss: 0.0640 | Episodes: 48 | Win count: 32 | Win rate: 1.000 | time: 6.91 minutes\n",
      "Epoch: 148/14999 | Loss: 0.0343 | Episodes: 29 | Win count: 32 | Win rate: 1.000 | time: 6.94 minutes\n",
      "Epoch: 149/14999 | Loss: 0.0049 | Episodes: 4 | Win count: 32 | Win rate: 1.000 | time: 6.96 minutes\n",
      "Epoch: 150/14999 | Loss: 0.0492 | Episodes: 42 | Win count: 32 | Win rate: 1.000 | time: 7.01 minutes\n",
      "Epoch: 151/14999 | Loss: 0.0194 | Episodes: 17 | Win count: 32 | Win rate: 1.000 | time: 7.04 minutes\n",
      "Epoch: 152/14999 | Loss: 0.0241 | Episodes: 21 | Win count: 32 | Win rate: 1.000 | time: 7.07 minutes\n",
      "Epoch: 153/14999 | Loss: 0.0144 | Episodes: 12 | Win count: 32 | Win rate: 1.000 | time: 7.08 minutes\n",
      "Epoch: 154/14999 | Loss: 0.0107 | Episodes: 9 | Win count: 32 | Win rate: 1.000 | time: 7.09 minutes\n",
      "Epoch: 155/14999 | Loss: 0.0119 | Episodes: 9 | Win count: 32 | Win rate: 1.000 | time: 7.11 minutes\n",
      "Epoch: 156/14999 | Loss: 0.0297 | Episodes: 28 | Win count: 32 | Win rate: 1.000 | time: 7.14 minutes\n",
      "Epoch: 157/14999 | Loss: 0.0239 | Episodes: 25 | Win count: 32 | Win rate: 1.000 | time: 7.17 minutes\n",
      "Epoch: 158/14999 | Loss: 0.0021 | Episodes: 2 | Win count: 32 | Win rate: 1.000 | time: 7.18 minutes\n",
      "Epoch: 159/14999 | Loss: 0.0116 | Episodes: 14 | Win count: 32 | Win rate: 1.000 | time: 7.20 minutes\n"
     ]
    },
    {
     "name": "stdout",
     "output_type": "stream",
     "text": [
      "Epoch: 160/14999 | Loss: 0.0176 | Episodes: 19 | Win count: 32 | Win rate: 1.000 | time: 7.23 minutes\n",
      "Epoch: 161/14999 | Loss: 0.0041 | Episodes: 5 | Win count: 32 | Win rate: 1.000 | time: 7.24 minutes\n",
      "Epoch: 162/14999 | Loss: 0.0012 | Episodes: 1 | Win count: 32 | Win rate: 1.000 | time: 7.24 minutes\n",
      "Epoch: 163/14999 | Loss: 0.0200 | Episodes: 18 | Win count: 32 | Win rate: 1.000 | time: 7.27 minutes\n",
      "Epoch: 164/14999 | Loss: 0.0516 | Episodes: 45 | Win count: 32 | Win rate: 1.000 | time: 7.33 minutes\n",
      "Epoch: 165/14999 | Loss: 0.0160 | Episodes: 15 | Win count: 32 | Win rate: 1.000 | time: 7.35 minutes\n",
      "Epoch: 166/14999 | Loss: 0.0262 | Episodes: 26 | Win count: 32 | Win rate: 1.000 | time: 7.39 minutes\n",
      "Epoch: 167/14999 | Loss: 0.0198 | Episodes: 21 | Win count: 32 | Win rate: 1.000 | time: 7.42 minutes\n",
      "Epoch: 168/14999 | Loss: 0.0134 | Episodes: 15 | Win count: 32 | Win rate: 1.000 | time: 7.44 minutes\n",
      "Epoch: 169/14999 | Loss: 0.0025 | Episodes: 2 | Win count: 32 | Win rate: 1.000 | time: 7.45 minutes\n",
      "Epoch: 170/14999 | Loss: 0.0022 | Episodes: 2 | Win count: 32 | Win rate: 1.000 | time: 7.46 minutes\n",
      "Epoch: 171/14999 | Loss: 0.0636 | Episodes: 64 | Win count: 32 | Win rate: 1.000 | time: 7.54 minutes\n",
      "Epoch: 172/14999 | Loss: 0.0117 | Episodes: 9 | Win count: 32 | Win rate: 1.000 | time: 7.55 minutes\n",
      "Epoch: 173/14999 | Loss: 0.0036 | Episodes: 3 | Win count: 32 | Win rate: 1.000 | time: 7.56 minutes\n",
      "Epoch: 174/14999 | Loss: 0.0221 | Episodes: 21 | Win count: 32 | Win rate: 1.000 | time: 7.59 minutes\n",
      "Epoch: 175/14999 | Loss: 0.0042 | Episodes: 5 | Win count: 32 | Win rate: 1.000 | time: 7.60 minutes\n",
      "Epoch: 176/14999 | Loss: 0.0046 | Episodes: 6 | Win count: 32 | Win rate: 1.000 | time: 7.61 minutes\n",
      "Epoch: 177/14999 | Loss: 0.0103 | Episodes: 11 | Win count: 32 | Win rate: 1.000 | time: 7.64 minutes\n",
      "Epoch: 178/14999 | Loss: 0.0293 | Episodes: 25 | Win count: 32 | Win rate: 1.000 | time: 7.67 minutes\n",
      "Epoch: 179/14999 | Loss: 0.0088 | Episodes: 8 | Win count: 32 | Win rate: 1.000 | time: 7.68 minutes\n",
      "Epoch: 180/14999 | Loss: 0.0233 | Episodes: 27 | Win count: 32 | Win rate: 1.000 | time: 7.72 minutes\n",
      "Epoch: 181/14999 | Loss: 0.0294 | Episodes: 33 | Win count: 32 | Win rate: 1.000 | time: 7.76 minutes\n",
      "Epoch: 182/14999 | Loss: 0.0118 | Episodes: 14 | Win count: 32 | Win rate: 1.000 | time: 7.78 minutes\n",
      "Epoch: 183/14999 | Loss: 0.0018 | Episodes: 2 | Win count: 32 | Win rate: 1.000 | time: 7.78 minutes\n",
      "Epoch: 184/14999 | Loss: 0.0182 | Episodes: 22 | Win count: 32 | Win rate: 1.000 | time: 7.82 minutes\n",
      "Epoch: 185/14999 | Loss: 0.0079 | Episodes: 10 | Win count: 32 | Win rate: 1.000 | time: 7.83 minutes\n",
      "Epoch: 186/14999 | Loss: 0.0146 | Episodes: 20 | Win count: 32 | Win rate: 1.000 | time: 7.86 minutes\n",
      "Epoch: 187/14999 | Loss: 0.0242 | Episodes: 29 | Win count: 32 | Win rate: 1.000 | time: 7.91 minutes\n",
      "Epoch: 188/14999 | Loss: 0.0217 | Episodes: 22 | Win count: 32 | Win rate: 1.000 | time: 7.94 minutes\n",
      "Epoch: 189/14999 | Loss: 0.0151 | Episodes: 20 | Win count: 32 | Win rate: 1.000 | time: 7.97 minutes\n",
      "Epoch: 190/14999 | Loss: 0.0014 | Episodes: 2 | Win count: 32 | Win rate: 1.000 | time: 7.97 minutes\n",
      "Epoch: 191/14999 | Loss: 0.0175 | Episodes: 21 | Win count: 32 | Win rate: 1.000 | time: 8.00 minutes\n",
      "Epoch: 192/14999 | Loss: 0.0097 | Episodes: 9 | Win count: 32 | Win rate: 1.000 | time: 8.02 minutes\n",
      "Epoch: 193/14999 | Loss: 0.0088 | Episodes: 12 | Win count: 32 | Win rate: 1.000 | time: 8.03 minutes\n",
      "Epoch: 194/14999 | Loss: 0.0115 | Episodes: 18 | Win count: 32 | Win rate: 1.000 | time: 8.06 minutes\n",
      "Epoch: 195/14999 | Loss: 0.0109 | Episodes: 19 | Win count: 32 | Win rate: 1.000 | time: 8.09 minutes\n",
      "Epoch: 196/14999 | Loss: 0.0111 | Episodes: 18 | Win count: 32 | Win rate: 1.000 | time: 8.12 minutes\n",
      "Epoch: 197/14999 | Loss: 0.0729 | Episodes: 78 | Win count: 32 | Win rate: 1.000 | time: 8.21 minutes\n",
      "Epoch: 198/14999 | Loss: 0.0017 | Episodes: 2 | Win count: 32 | Win rate: 1.000 | time: 8.22 minutes\n",
      "Epoch: 199/14999 | Loss: 0.0752 | Episodes: 75 | Win count: 32 | Win rate: 1.000 | time: 8.31 minutes\n",
      "Epoch: 200/14999 | Loss: 0.0043 | Episodes: 5 | Win count: 32 | Win rate: 1.000 | time: 8.32 minutes\n",
      "Epoch: 201/14999 | Loss: 0.0741 | Episodes: 81 | Win count: 32 | Win rate: 1.000 | time: 8.42 minutes\n",
      "Epoch: 202/14999 | Loss: 0.0654 | Episodes: 72 | Win count: 32 | Win rate: 1.000 | time: 8.52 minutes\n",
      "Epoch: 203/14999 | Loss: 0.0178 | Episodes: 19 | Win count: 32 | Win rate: 1.000 | time: 8.54 minutes\n",
      "Epoch: 204/14999 | Loss: 0.0071 | Episodes: 7 | Win count: 32 | Win rate: 1.000 | time: 8.56 minutes\n",
      "Epoch: 205/14999 | Loss: 0.0500 | Episodes: 50 | Win count: 32 | Win rate: 1.000 | time: 8.62 minutes\n",
      "Epoch: 206/14999 | Loss: 0.0235 | Episodes: 25 | Win count: 32 | Win rate: 1.000 | time: 8.65 minutes\n",
      "Epoch: 207/14999 | Loss: 0.0027 | Episodes: 2 | Win count: 32 | Win rate: 1.000 | time: 8.66 minutes\n",
      "Epoch: 208/14999 | Loss: 0.0033 | Episodes: 5 | Win count: 32 | Win rate: 1.000 | time: 8.67 minutes\n",
      "Epoch: 209/14999 | Loss: 0.0305 | Episodes: 29 | Win count: 32 | Win rate: 1.000 | time: 8.71 minutes\n",
      "Epoch: 210/14999 | Loss: 0.0348 | Episodes: 35 | Win count: 32 | Win rate: 1.000 | time: 8.75 minutes\n",
      "Epoch: 211/14999 | Loss: 0.0133 | Episodes: 14 | Win count: 32 | Win rate: 1.000 | time: 8.78 minutes\n",
      "Epoch: 212/14999 | Loss: 0.0106 | Episodes: 11 | Win count: 32 | Win rate: 1.000 | time: 8.80 minutes\n",
      "Epoch: 213/14999 | Loss: 0.0178 | Episodes: 20 | Win count: 32 | Win rate: 1.000 | time: 8.83 minutes\n",
      "Epoch: 214/14999 | Loss: 0.0211 | Episodes: 22 | Win count: 32 | Win rate: 1.000 | time: 8.86 minutes\n",
      "Epoch: 215/14999 | Loss: 0.0018 | Episodes: 3 | Win count: 32 | Win rate: 1.000 | time: 8.87 minutes\n",
      "Epoch: 216/14999 | Loss: 0.0007 | Episodes: 1 | Win count: 32 | Win rate: 1.000 | time: 8.87 minutes\n",
      "Epoch: 217/14999 | Loss: 0.0355 | Episodes: 36 | Win count: 32 | Win rate: 1.000 | time: 8.92 minutes\n",
      "Epoch: 218/14999 | Loss: 0.0296 | Episodes: 30 | Win count: 32 | Win rate: 1.000 | time: 8.97 minutes\n",
      "Epoch: 219/14999 | Loss: 0.0104 | Episodes: 11 | Win count: 32 | Win rate: 1.000 | time: 8.98 minutes\n",
      "Epoch: 220/14999 | Loss: 0.0559 | Episodes: 63 | Win count: 32 | Win rate: 1.000 | time: 9.06 minutes\n",
      "Epoch: 221/14999 | Loss: 0.0212 | Episodes: 25 | Win count: 32 | Win rate: 1.000 | time: 9.10 minutes\n",
      "Epoch: 222/14999 | Loss: 0.0137 | Episodes: 16 | Win count: 32 | Win rate: 1.000 | time: 9.12 minutes\n",
      "Epoch: 223/14999 | Loss: 0.0009 | Episodes: 1 | Win count: 32 | Win rate: 1.000 | time: 9.12 minutes\n",
      "Epoch: 224/14999 | Loss: 0.0011 | Episodes: 2 | Win count: 32 | Win rate: 1.000 | time: 9.12 minutes\n",
      "Epoch: 225/14999 | Loss: 0.0307 | Episodes: 36 | Win count: 32 | Win rate: 1.000 | time: 9.17 minutes\n",
      "Epoch: 226/14999 | Loss: 0.0017 | Episodes: 2 | Win count: 32 | Win rate: 1.000 | time: 9.17 minutes\n",
      "Epoch: 227/14999 | Loss: 0.0291 | Episodes: 31 | Win count: 32 | Win rate: 1.000 | time: 9.21 minutes\n",
      "Epoch: 228/14999 | Loss: 0.0082 | Episodes: 13 | Win count: 32 | Win rate: 1.000 | time: 9.23 minutes\n",
      "Epoch: 229/14999 | Loss: 0.0272 | Episodes: 35 | Win count: 32 | Win rate: 1.000 | time: 9.28 minutes\n",
      "Epoch: 230/14999 | Loss: 0.0140 | Episodes: 17 | Win count: 32 | Win rate: 1.000 | time: 9.30 minutes\n",
      "Epoch: 231/14999 | Loss: 0.0186 | Episodes: 29 | Win count: 32 | Win rate: 1.000 | time: 9.34 minutes\n",
      "Epoch: 232/14999 | Loss: 0.0250 | Episodes: 34 | Win count: 32 | Win rate: 1.000 | time: 9.38 minutes\n",
      "Epoch: 233/14999 | Loss: 0.0174 | Episodes: 26 | Win count: 32 | Win rate: 1.000 | time: 9.42 minutes\n",
      "Epoch: 234/14999 | Loss: 0.0253 | Episodes: 34 | Win count: 32 | Win rate: 1.000 | time: 9.46 minutes\n",
      "Epoch: 235/14999 | Loss: 0.0161 | Episodes: 20 | Win count: 32 | Win rate: 1.000 | time: 9.49 minutes\n",
      "Epoch: 236/14999 | Loss: 0.0198 | Episodes: 29 | Win count: 32 | Win rate: 1.000 | time: 9.52 minutes\n",
      "Epoch: 237/14999 | Loss: 0.0323 | Episodes: 44 | Win count: 32 | Win rate: 1.000 | time: 9.58 minutes\n",
      "Epoch: 238/14999 | Loss: 0.0117 | Episodes: 14 | Win count: 32 | Win rate: 1.000 | time: 9.60 minutes\n",
      "Epoch: 239/14999 | Loss: 0.0388 | Episodes: 42 | Win count: 32 | Win rate: 1.000 | time: 9.65 minutes\n",
      "Epoch: 240/14999 | Loss: 0.0065 | Episodes: 6 | Win count: 32 | Win rate: 1.000 | time: 9.66 minutes\n"
     ]
    },
    {
     "name": "stdout",
     "output_type": "stream",
     "text": [
      "Epoch: 241/14999 | Loss: 0.0373 | Episodes: 34 | Win count: 32 | Win rate: 1.000 | time: 9.71 minutes\n",
      "Epoch: 242/14999 | Loss: 0.0299 | Episodes: 29 | Win count: 32 | Win rate: 1.000 | time: 9.75 minutes\n",
      "Epoch: 243/14999 | Loss: 0.0166 | Episodes: 16 | Win count: 32 | Win rate: 1.000 | time: 9.78 minutes\n",
      "Epoch: 244/14999 | Loss: 0.0309 | Episodes: 26 | Win count: 32 | Win rate: 1.000 | time: 9.82 minutes\n",
      "Epoch: 245/14999 | Loss: 0.0485 | Episodes: 38 | Win count: 32 | Win rate: 1.000 | time: 9.87 minutes\n",
      "Epoch: 246/14999 | Loss: 0.0416 | Episodes: 35 | Win count: 32 | Win rate: 1.000 | time: 9.91 minutes\n",
      "Epoch: 247/14999 | Loss: 0.0054 | Episodes: 4 | Win count: 32 | Win rate: 1.000 | time: 9.92 minutes\n",
      "Epoch: 248/14999 | Loss: 0.0444 | Episodes: 36 | Win count: 32 | Win rate: 1.000 | time: 9.96 minutes\n",
      "Epoch: 249/14999 | Loss: 0.0482 | Episodes: 38 | Win count: 32 | Win rate: 1.000 | time: 10.02 minutes\n",
      "Epoch: 250/14999 | Loss: 0.0768 | Episodes: 52 | Win count: 32 | Win rate: 1.000 | time: 10.09 minutes\n",
      "Epoch: 251/14999 | Loss: 0.0151 | Episodes: 13 | Win count: 32 | Win rate: 1.000 | time: 10.10 minutes\n",
      "Epoch: 252/14999 | Loss: 0.0454 | Episodes: 32 | Win count: 32 | Win rate: 1.000 | time: 10.14 minutes\n",
      "Epoch: 253/14999 | Loss: 0.0421 | Episodes: 33 | Win count: 32 | Win rate: 1.000 | time: 10.17 minutes\n",
      "Epoch: 254/14999 | Loss: 0.0298 | Episodes: 23 | Win count: 32 | Win rate: 1.000 | time: 10.20 minutes\n",
      "Epoch: 255/14999 | Loss: 0.0251 | Episodes: 19 | Win count: 32 | Win rate: 1.000 | time: 10.23 minutes\n",
      "Epoch: 256/14999 | Loss: 0.0305 | Episodes: 26 | Win count: 32 | Win rate: 1.000 | time: 10.26 minutes\n",
      "Epoch: 257/14999 | Loss: 0.0104 | Episodes: 9 | Win count: 32 | Win rate: 1.000 | time: 10.27 minutes\n",
      "Epoch: 258/14999 | Loss: 0.0501 | Episodes: 39 | Win count: 32 | Win rate: 1.000 | time: 10.32 minutes\n",
      "Epoch: 259/14999 | Loss: 0.0115 | Episodes: 11 | Win count: 32 | Win rate: 1.000 | time: 10.34 minutes\n",
      "Epoch: 260/14999 | Loss: 0.0347 | Episodes: 30 | Win count: 32 | Win rate: 1.000 | time: 10.38 minutes\n",
      "Epoch: 261/14999 | Loss: 0.0218 | Episodes: 20 | Win count: 32 | Win rate: 1.000 | time: 10.40 minutes\n",
      "Epoch: 262/14999 | Loss: 0.0413 | Episodes: 32 | Win count: 32 | Win rate: 1.000 | time: 10.44 minutes\n",
      "Epoch: 263/14999 | Loss: 0.0223 | Episodes: 18 | Win count: 32 | Win rate: 1.000 | time: 10.46 minutes\n",
      "Epoch: 264/14999 | Loss: 0.0142 | Episodes: 12 | Win count: 32 | Win rate: 1.000 | time: 10.48 minutes\n",
      "Epoch: 265/14999 | Loss: 0.0245 | Episodes: 17 | Win count: 32 | Win rate: 1.000 | time: 10.51 minutes\n",
      "Epoch: 266/14999 | Loss: 0.0197 | Episodes: 16 | Win count: 32 | Win rate: 1.000 | time: 10.53 minutes\n",
      "Epoch: 267/14999 | Loss: 0.0180 | Episodes: 16 | Win count: 32 | Win rate: 1.000 | time: 10.55 minutes\n",
      "Epoch: 268/14999 | Loss: 0.0503 | Episodes: 38 | Win count: 32 | Win rate: 1.000 | time: 10.60 minutes\n",
      "Epoch: 269/14999 | Loss: 0.0242 | Episodes: 21 | Win count: 32 | Win rate: 1.000 | time: 10.63 minutes\n",
      "Epoch: 270/14999 | Loss: 0.0262 | Episodes: 20 | Win count: 32 | Win rate: 1.000 | time: 10.66 minutes\n",
      "Epoch: 271/14999 | Loss: 0.0381 | Episodes: 27 | Win count: 32 | Win rate: 1.000 | time: 10.69 minutes\n",
      "Epoch: 272/14999 | Loss: 0.0118 | Episodes: 9 | Win count: 32 | Win rate: 1.000 | time: 10.71 minutes\n",
      "Epoch: 273/14999 | Loss: 0.0455 | Episodes: 42 | Win count: 32 | Win rate: 1.000 | time: 10.76 minutes\n",
      "Epoch: 274/14999 | Loss: 0.0316 | Episodes: 26 | Win count: 32 | Win rate: 1.000 | time: 10.79 minutes\n",
      "Epoch: 275/14999 | Loss: 0.0027 | Episodes: 2 | Win count: 32 | Win rate: 1.000 | time: 10.80 minutes\n",
      "Epoch: 276/14999 | Loss: 0.0460 | Episodes: 34 | Win count: 32 | Win rate: 1.000 | time: 10.84 minutes\n",
      "Epoch: 277/14999 | Loss: 0.0263 | Episodes: 20 | Win count: 32 | Win rate: 1.000 | time: 10.86 minutes\n",
      "Epoch: 278/14999 | Loss: 0.0241 | Episodes: 23 | Win count: 32 | Win rate: 1.000 | time: 10.90 minutes\n",
      "Epoch: 279/14999 | Loss: 0.0018 | Episodes: 2 | Win count: 32 | Win rate: 1.000 | time: 10.90 minutes\n",
      "Epoch: 280/14999 | Loss: 0.0214 | Episodes: 19 | Win count: 32 | Win rate: 1.000 | time: 10.93 minutes\n",
      "Epoch: 281/14999 | Loss: 0.0094 | Episodes: 9 | Win count: 32 | Win rate: 1.000 | time: 10.94 minutes\n",
      "Epoch: 282/14999 | Loss: 0.0234 | Episodes: 19 | Win count: 32 | Win rate: 1.000 | time: 10.96 minutes\n",
      "Epoch: 283/14999 | Loss: 0.0438 | Episodes: 37 | Win count: 32 | Win rate: 1.000 | time: 11.01 minutes\n",
      "Epoch: 284/14999 | Loss: 0.0351 | Episodes: 34 | Win count: 32 | Win rate: 1.000 | time: 11.05 minutes\n",
      "Epoch: 285/14999 | Loss: 0.0018 | Episodes: 1 | Win count: 32 | Win rate: 1.000 | time: 11.05 minutes\n",
      "Epoch: 286/14999 | Loss: 0.0243 | Episodes: 19 | Win count: 32 | Win rate: 1.000 | time: 11.08 minutes\n",
      "Epoch: 287/14999 | Loss: 0.0862 | Episodes: 62 | Win count: 32 | Win rate: 1.000 | time: 11.15 minutes\n",
      "Epoch: 288/14999 | Loss: 0.0196 | Episodes: 16 | Win count: 32 | Win rate: 1.000 | time: 11.18 minutes\n",
      "Epoch: 289/14999 | Loss: 0.0382 | Episodes: 27 | Win count: 32 | Win rate: 1.000 | time: 11.22 minutes\n",
      "Epoch: 290/14999 | Loss: 0.0033 | Episodes: 3 | Win count: 32 | Win rate: 1.000 | time: 11.23 minutes\n",
      "Epoch: 291/14999 | Loss: 0.0225 | Episodes: 17 | Win count: 32 | Win rate: 1.000 | time: 11.26 minutes\n",
      "Epoch: 292/14999 | Loss: 0.0280 | Episodes: 23 | Win count: 32 | Win rate: 1.000 | time: 11.29 minutes\n",
      "Epoch: 293/14999 | Loss: 0.0170 | Episodes: 14 | Win count: 32 | Win rate: 1.000 | time: 11.31 minutes\n",
      "Epoch: 294/14999 | Loss: 0.0213 | Episodes: 18 | Win count: 32 | Win rate: 1.000 | time: 11.33 minutes\n",
      "Epoch: 295/14999 | Loss: 0.0377 | Episodes: 35 | Win count: 32 | Win rate: 1.000 | time: 11.37 minutes\n",
      "Epoch: 296/14999 | Loss: 0.0171 | Episodes: 17 | Win count: 32 | Win rate: 1.000 | time: 11.39 minutes\n",
      "Epoch: 297/14999 | Loss: 0.0258 | Episodes: 27 | Win count: 32 | Win rate: 1.000 | time: 11.43 minutes\n",
      "Epoch: 298/14999 | Loss: 0.0220 | Episodes: 22 | Win count: 32 | Win rate: 1.000 | time: 11.46 minutes\n",
      "Epoch: 299/14999 | Loss: 0.0230 | Episodes: 23 | Win count: 32 | Win rate: 1.000 | time: 11.48 minutes\n",
      "Epoch: 300/14999 | Loss: 0.0270 | Episodes: 26 | Win count: 32 | Win rate: 1.000 | time: 11.52 minutes\n",
      "Epoch: 301/14999 | Loss: 0.0226 | Episodes: 27 | Win count: 32 | Win rate: 1.000 | time: 11.55 minutes\n",
      "Epoch: 302/14999 | Loss: 0.0069 | Episodes: 9 | Win count: 32 | Win rate: 1.000 | time: 11.56 minutes\n",
      "Epoch: 303/14999 | Loss: 0.0053 | Episodes: 6 | Win count: 32 | Win rate: 1.000 | time: 11.58 minutes\n",
      "Epoch: 304/14999 | Loss: 0.0149 | Episodes: 21 | Win count: 32 | Win rate: 1.000 | time: 11.62 minutes\n",
      "Epoch: 305/14999 | Loss: 0.0235 | Episodes: 31 | Win count: 32 | Win rate: 1.000 | time: 11.67 minutes\n",
      "Epoch: 306/14999 | Loss: 0.0190 | Episodes: 27 | Win count: 32 | Win rate: 1.000 | time: 11.70 minutes\n",
      "Epoch: 307/14999 | Loss: 0.0038 | Episodes: 6 | Win count: 32 | Win rate: 1.000 | time: 11.72 minutes\n",
      "Epoch: 308/14999 | Loss: 0.0012 | Episodes: 2 | Win count: 32 | Win rate: 1.000 | time: 11.73 minutes\n",
      "Epoch: 309/14999 | Loss: 0.0097 | Episodes: 14 | Win count: 32 | Win rate: 1.000 | time: 11.75 minutes\n",
      "Epoch: 310/14999 | Loss: 0.0091 | Episodes: 13 | Win count: 32 | Win rate: 1.000 | time: 11.77 minutes\n",
      "Epoch: 311/14999 | Loss: 0.0021 | Episodes: 2 | Win count: 32 | Win rate: 1.000 | time: 11.77 minutes\n",
      "Epoch: 312/14999 | Loss: 0.0162 | Episodes: 25 | Win count: 32 | Win rate: 1.000 | time: 11.80 minutes\n",
      "Epoch: 313/14999 | Loss: 0.0106 | Episodes: 19 | Win count: 32 | Win rate: 1.000 | time: 11.83 minutes\n",
      "Epoch: 314/14999 | Loss: 0.0158 | Episodes: 26 | Win count: 32 | Win rate: 1.000 | time: 11.86 minutes\n",
      "Epoch: 315/14999 | Loss: 0.0041 | Episodes: 8 | Win count: 32 | Win rate: 1.000 | time: 11.87 minutes\n",
      "Epoch: 316/14999 | Loss: 0.0078 | Episodes: 10 | Win count: 32 | Win rate: 1.000 | time: 11.89 minutes\n",
      "Epoch: 317/14999 | Loss: 0.0184 | Episodes: 33 | Win count: 32 | Win rate: 1.000 | time: 11.94 minutes\n",
      "Epoch: 318/14999 | Loss: 0.0005 | Episodes: 1 | Win count: 32 | Win rate: 1.000 | time: 11.95 minutes\n",
      "Epoch: 319/14999 | Loss: 0.0271 | Episodes: 46 | Win count: 32 | Win rate: 1.000 | time: 12.00 minutes\n",
      "Epoch: 320/14999 | Loss: 0.0089 | Episodes: 13 | Win count: 32 | Win rate: 1.000 | time: 12.02 minutes\n"
     ]
    },
    {
     "name": "stdout",
     "output_type": "stream",
     "text": [
      "Epoch: 321/14999 | Loss: 0.0202 | Episodes: 32 | Win count: 32 | Win rate: 1.000 | time: 12.06 minutes\n",
      "Epoch: 322/14999 | Loss: 0.0027 | Episodes: 6 | Win count: 32 | Win rate: 1.000 | time: 12.07 minutes\n",
      "Epoch: 323/14999 | Loss: 0.0109 | Episodes: 17 | Win count: 32 | Win rate: 1.000 | time: 12.10 minutes\n",
      "Epoch: 324/14999 | Loss: 0.0200 | Episodes: 29 | Win count: 32 | Win rate: 1.000 | time: 12.13 minutes\n",
      "Epoch: 325/14999 | Loss: 0.0245 | Episodes: 35 | Win count: 32 | Win rate: 1.000 | time: 12.18 minutes\n",
      "Epoch: 326/14999 | Loss: 0.0140 | Episodes: 25 | Win count: 32 | Win rate: 1.000 | time: 12.21 minutes\n",
      "Epoch: 327/14999 | Loss: 0.0020 | Episodes: 3 | Win count: 32 | Win rate: 1.000 | time: 12.22 minutes\n",
      "Epoch: 328/14999 | Loss: 0.0167 | Episodes: 36 | Win count: 32 | Win rate: 1.000 | time: 12.27 minutes\n",
      "Epoch: 329/14999 | Loss: 0.0031 | Episodes: 9 | Win count: 32 | Win rate: 1.000 | time: 12.29 minutes\n",
      "Epoch: 330/14999 | Loss: 0.0085 | Episodes: 20 | Win count: 32 | Win rate: 1.000 | time: 12.31 minutes\n",
      "Epoch: 331/14999 | Loss: 0.0094 | Episodes: 28 | Win count: 32 | Win rate: 1.000 | time: 12.35 minutes\n",
      "Epoch: 332/14999 | Loss: 0.0024 | Episodes: 4 | Win count: 32 | Win rate: 1.000 | time: 12.35 minutes\n",
      "Epoch: 333/14999 | Loss: 0.0135 | Episodes: 32 | Win count: 32 | Win rate: 1.000 | time: 12.39 minutes\n",
      "Epoch: 334/14999 | Loss: 0.0092 | Episodes: 21 | Win count: 32 | Win rate: 1.000 | time: 12.42 minutes\n",
      "Epoch: 335/14999 | Loss: 0.0094 | Episodes: 16 | Win count: 32 | Win rate: 1.000 | time: 12.45 minutes\n",
      "Epoch: 336/14999 | Loss: 0.0067 | Episodes: 14 | Win count: 32 | Win rate: 1.000 | time: 12.47 minutes\n",
      "Epoch: 337/14999 | Loss: 0.0014 | Episodes: 2 | Win count: 32 | Win rate: 1.000 | time: 12.49 minutes\n",
      "Epoch: 338/14999 | Loss: 0.0117 | Episodes: 30 | Win count: 32 | Win rate: 1.000 | time: 12.53 minutes\n",
      "Epoch: 339/14999 | Loss: 0.0128 | Episodes: 25 | Win count: 32 | Win rate: 1.000 | time: 12.57 minutes\n",
      "Epoch: 340/14999 | Loss: 0.0084 | Episodes: 19 | Win count: 32 | Win rate: 1.000 | time: 12.59 minutes\n",
      "Epoch: 341/14999 | Loss: 0.0146 | Episodes: 30 | Win count: 32 | Win rate: 1.000 | time: 12.63 minutes\n",
      "Epoch: 342/14999 | Loss: 0.0062 | Episodes: 14 | Win count: 32 | Win rate: 1.000 | time: 12.65 minutes\n",
      "Epoch: 343/14999 | Loss: 0.0096 | Episodes: 22 | Win count: 32 | Win rate: 1.000 | time: 12.70 minutes\n",
      "Epoch: 344/14999 | Loss: 0.0129 | Episodes: 25 | Win count: 32 | Win rate: 1.000 | time: 12.74 minutes\n",
      "Epoch: 345/14999 | Loss: 0.0039 | Episodes: 12 | Win count: 32 | Win rate: 1.000 | time: 12.76 minutes\n",
      "Epoch: 346/14999 | Loss: 0.0010 | Episodes: 2 | Win count: 32 | Win rate: 1.000 | time: 12.78 minutes\n",
      "Epoch: 347/14999 | Loss: 0.0047 | Episodes: 11 | Win count: 32 | Win rate: 1.000 | time: 12.80 minutes\n",
      "Epoch: 348/14999 | Loss: 0.0123 | Episodes: 26 | Win count: 32 | Win rate: 1.000 | time: 12.83 minutes\n",
      "Epoch: 349/14999 | Loss: 0.0016 | Episodes: 3 | Win count: 32 | Win rate: 1.000 | time: 12.84 minutes\n",
      "Epoch: 350/14999 | Loss: 0.0094 | Episodes: 20 | Win count: 32 | Win rate: 1.000 | time: 12.87 minutes\n",
      "Epoch: 351/14999 | Loss: 0.0077 | Episodes: 20 | Win count: 32 | Win rate: 1.000 | time: 12.90 minutes\n",
      "Epoch: 352/14999 | Loss: 0.0053 | Episodes: 14 | Win count: 32 | Win rate: 1.000 | time: 12.93 minutes\n",
      "Epoch: 353/14999 | Loss: 0.0070 | Episodes: 19 | Win count: 32 | Win rate: 1.000 | time: 12.95 minutes\n",
      "Epoch: 354/14999 | Loss: 0.0033 | Episodes: 9 | Win count: 32 | Win rate: 1.000 | time: 12.97 minutes\n",
      "Epoch: 355/14999 | Loss: 0.0066 | Episodes: 21 | Win count: 32 | Win rate: 1.000 | time: 13.01 minutes\n",
      "Epoch: 356/14999 | Loss: 0.0102 | Episodes: 29 | Win count: 32 | Win rate: 1.000 | time: 13.06 minutes\n",
      "Epoch: 357/14999 | Loss: 0.0102 | Episodes: 26 | Win count: 32 | Win rate: 1.000 | time: 13.10 minutes\n",
      "Epoch: 358/14999 | Loss: 0.0095 | Episodes: 26 | Win count: 32 | Win rate: 1.000 | time: 13.14 minutes\n",
      "Epoch: 359/14999 | Loss: 0.0019 | Episodes: 8 | Win count: 32 | Win rate: 1.000 | time: 13.17 minutes\n",
      "Epoch: 360/14999 | Loss: 0.0046 | Episodes: 13 | Win count: 32 | Win rate: 1.000 | time: 13.19 minutes\n",
      "Breaking loop, reached 100% win rate at epoch: 361\n",
      "n_epoch: 361, max_mem: 512, data: 32, time: 13.21 minutes\n"
     ]
    },
    {
     "data": {
      "text/plain": [
       "792.795867"
      ]
     },
     "execution_count": 14,
     "metadata": {},
     "output_type": "execute_result"
    }
   ],
   "source": [
    "model = build_model(maze)\n",
    "qtrain(model, maze, epochs=1000, max_memory=8*maze.size, data_size=32)"
   ]
  },
  {
   "cell_type": "markdown",
   "metadata": {},
   "source": [
    "This cell will check to see if the model passes the completion check. Note: This could take several minutes."
   ]
  },
  {
   "cell_type": "code",
   "execution_count": 15,
   "metadata": {},
   "outputs": [
    {
     "data": {
      "text/plain": [
       "<matplotlib.image.AxesImage at 0x2076b7c7a08>"
      ]
     },
     "execution_count": 15,
     "metadata": {},
     "output_type": "execute_result"
    },
    {
     "data": {
      "image/png": "[encoded data removed]",
      "text/plain": [
       "<Figure size 432x288 with 1 Axes>"
      ]
     },
     "metadata": {
      "needs_background": "light"
     },
     "output_type": "display_data"
    }
   ],
   "source": [
    "completion_check(model, qmaze)\n",
    "show(qmaze)"
   ]
  },
  {
   "cell_type": "markdown",
   "metadata": {},
   "source": [
    "This cell will test your model for one game. It will start the pirate at the top-left corner and run play_game. The agent should find a path from the starting position to the target (treasure). The treasure is located in the bottom-right corner."
   ]
  },
  {
   "cell_type": "code",
   "execution_count": 16,
   "metadata": {},
   "outputs": [
    {
     "data": {
      "text/plain": [
       "<matplotlib.image.AxesImage at 0x20774886108>"
      ]
     },
     "execution_count": 16,
     "metadata": {},
     "output_type": "execute_result"
    },
    {
     "data": {
      "image/png": "[encoded data removed]",
      "text/plain": [
       "<Figure size 432x288 with 1 Axes>"
      ]
     },
     "metadata": {
      "needs_background": "light"
     },
     "output_type": "display_data"
    }
   ],
   "source": [
    "pirate_start = (0, 0)\n",
    "play_game(model, qmaze, pirate_start)\n",
    "show(qmaze)"
   ]
  },
  {
   "cell_type": "markdown",
   "metadata": {},
   "source": [
    "## Save and Submit Your Work\n",
    "After you have finished creating the code for your notebook, save your work. Make sure that your notebook contains your name in the filename (e.g. Doe_Jane_ProjectTwo.ipynb). This will help your instructor access and grade your work easily. Download a copy of your IPYNB file and submit it to Brightspace. Refer to the Jupyter Notebook in Apporto Tutorial if you need help with these tasks."
   ]
  }
 ],
 "metadata": {
  "kernelspec": {
   "display_name": "Python 3",
   "language": "python",
   "name": "python3"
  },
  "language_info": {
   "codemirror_mode": {
    "name": "ipython",
    "version": 3
   },
   "file_extension": ".py",
   "mimetype": "text/x-python",
   "name": "python",
   "nbconvert_exporter": "python",
   "pygments_lexer": "ipython3",
   "version": "3.7.4"
  }
 },
 "nbformat": 4,
 "nbformat_minor": 2
}
